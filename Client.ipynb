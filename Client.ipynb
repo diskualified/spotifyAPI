{
 "cells": [
  {
   "cell_type": "code",
   "execution_count": 1,
   "id": "4b6ce21d",
   "metadata": {},
   "outputs": [],
   "source": [
    "import requests\n",
    "import base64\n",
    "import datetime\n",
    "from urllib.parse import urlencode\n",
    "from IPython.display import Image, display"
   ]
  },
  {
   "cell_type": "code",
   "execution_count": 395,
   "id": "0ebab316",
   "metadata": {},
   "outputs": [],
   "source": [
    "# search, recommendByTrack, getAudioFeatures, getRelatedArtists\n",
    "class SpotifyAPI():\n",
    "    access_token = None\n",
    "    expires = datetime.datetime.now()\n",
    "    client_id = None\n",
    "    client_secret = None\n",
    "    redirect_uri = 'http://localhost:8888/notebooks/Autho.ipynb'\n",
    "    token_url = 'https://accounts.spotify.com/api/token'\n",
    "    headers = None\n",
    "    \n",
    "    def __init__(self, client_id, client_secret):\n",
    "        self.client_id = client_id\n",
    "        self.client_secret = client_secret\n",
    "    \n",
    "    def getTokenData(self):\n",
    "        return {\n",
    "            'grant_type': 'client_credentials'\n",
    "        }\n",
    "    def getTokenHeaders(self):\n",
    "        client_creds = f\"{self.client_id}:{self. client_secret}\"\n",
    "        client_creds_b64 = base64.b64encode(client_creds.encode())\n",
    "        return {\n",
    "            'authorization': f\"Basic {client_creds_b64.decode()}\" # <base64 encoded client_id:client_secret>\n",
    "        }\n",
    "    \n",
    "    def performAuth(self):\n",
    "        r = requests.post(self.token_url, data=self.getTokenData(), headers = self.getTokenHeaders())\n",
    "        if r.status_code not in range(200, 299):\n",
    "            return False\n",
    "        response = r.json()\n",
    "        now = datetime.datetime.now()\n",
    "        self.access_token = response['access_token']\n",
    "        expires_in = response['expires_in']\n",
    "        self.expires = now + datetime.timedelta(seconds=expires_in)\n",
    "        return True\n",
    "\n",
    "    def getToken(self):\n",
    "        if self.expires < datetime.datetime.now():\n",
    "            self.performAuth()\n",
    "        self.headers = {\n",
    "            \"Authorization\": f\"Bearer {self.access_token}\",\n",
    "            \"Content-Type\": \"application/json\",\n",
    "            \"Accept\": \"application/json\"\n",
    "        }\n",
    "    def displaySearch(self, result, searchtype, getID):\n",
    "        if searchtype == 'track':\n",
    "            # 0 index meaning first result\n",
    "            title = result['tracks']['items'][0]['name']\n",
    "            artist = result['tracks']['items'][0]['artists'][0]['name']\n",
    "            artist_id = result['tracks']['items'][0]['artists'][0]['id']\n",
    "            song_id = result['tracks']['items'][0]['id']\n",
    "            if getID:\n",
    "                return song_id, artist_id\n",
    "            link = f\"https://open.spotify.com/track/{song_id}\"\n",
    "            artist_page = f\"https://open.spotify.com/artist/{artist_id}\"\n",
    "            img = result['tracks']['items'][0]['album']['images'][1]['url']\n",
    "            release_date = result['tracks']['items'][0]['album']['release_date']\n",
    "            display(Image(url=img))\n",
    "            print(f\"Title: {title}\\nArtist: {artist}\\nRelease Date: {release_date}\\nLink: {link}\\nArtist Profile: {artist_page}\")\n",
    "        elif searchtype == 'artist':\n",
    "            if getID:\n",
    "                return result['artists']['items'][0]['id']\n",
    "            artist = result['artists']['items'][0]['name']\n",
    "            link = result['artists']['items'][0]['external_urls']['spotify']\n",
    "            followers = result['artists']['items'][0]['followers']['total']\n",
    "            img = result['artists']['items'][0]['images'][1]['url']\n",
    "            display(Image(url=img))\n",
    "            print(f\"Name: {artist}\\nFollower Count: {followers}\\nProfile: {link}\")\n",
    "        elif searchtype == 'album':\n",
    "            img = result['albums']['items'][0]['images'][1]['url']\n",
    "            display(Image(url=img))\n",
    "            # TODO: Display Album Info\n",
    "            \n",
    "        else:\n",
    "            print(\"Choose type: track, artist, or album\")\n",
    "        return result\n",
    "    \n",
    "    \n",
    "    # User Functions Below\n",
    "    \n",
    "    # search track, artist, album\n",
    "    def search(self, name, searchtype, getID = False):\n",
    "        self.getToken()\n",
    "        data = {'q': name, 'type': searchtype.lower()}\n",
    "        dataurl = urlencode(data)\n",
    "        url = f\"https://api.spotify.com/v1/search?{dataurl}\"\n",
    "        r = requests.get(url, headers=self.headers)\n",
    "        result = r.json()\n",
    "        \n",
    "        return self.displaySearch(result, searchtype, getID)\n",
    "    \n",
    "    # input one or two songs\n",
    "    def recommendByTrack(self, song1, song2=''):\n",
    "        self.getToken()\n",
    "        song1_id, artist1_id = self.search(song1, 'track', getID=True)\n",
    "        data = {'seed_artists': artist1_id, 'seed_tracks': song1_id}\n",
    "        if song2 != '':\n",
    "            song2_id, artist2_id = self.search(song2, 'track', getID=True)\n",
    "            if artist2_id != artist1_id:\n",
    "                data['seed_artists'] += f',{artist2_id}'\n",
    "            data['seed_tracks'] += f',{song2_id}'\n",
    "            \n",
    "        dataurl = urlencode(data)\n",
    "        url = f\"https://api.spotify.com/v1/recommendations?{dataurl}\"\n",
    "        r = requests.get(url, headers=self.headers)\n",
    "        response = r.json()\n",
    "        \n",
    "        for i in range(10):\n",
    "            name = response['tracks'][i]['album']['artists'][0]['name']\n",
    "            album = response['tracks'][i]['album']['name']\n",
    "            link = response['tracks'][i]['album']['external_urls']['spotify']\n",
    "            img = response['tracks'][i]['album']['images'][1]['url']\n",
    "            display(Image(url=img))\n",
    "            print(f\"{i+1}. Artist: {name}\\nAlbum: {album}\\nSpotify Link: {link}\\n\")\n",
    "        return response\n",
    "    \n",
    "    # search by artist or track using isArtist bool\n",
    "    def getRelatedArtists(self, name, isArtist):\n",
    "        if isArtist:\n",
    "            _id = self.search(name, 'artist', getID=True)\n",
    "        else:\n",
    "            _id = self.search(name, 'track', getID=True)[1]\n",
    "        url = f'https://api.spotify.com/v1/artists/{_id}/related-artists'\n",
    "        r = requests.get(url, headers = self.headers)\n",
    "        response = r.json()\n",
    "        print(\"Similar Artists:\")\n",
    "        for i in range(20):\n",
    "            print(i+1, response['artists'][i]['name'])\n",
    "        return response\n",
    "    \n",
    "    def getAudioFeatures(self, track):\n",
    "        _id = self.search(track, 'track', getID=True)[0]\n",
    "        url = f'https://api.spotify.com/v1/audio-features/{_id}'\n",
    "        r = requests.get(url, headers=self.headers)\n",
    "        # TODO: Parse / visualize audio features (e.g. danceability, energy)\n",
    "        \n",
    "        return r.json()\n",
    "    \n",
    "    "
   ]
  },
  {
   "cell_type": "code",
   "execution_count": 396,
   "id": "f0310ec9",
   "metadata": {},
   "outputs": [],
   "source": [
    "client_id = '4e75cab0012d409da502214e828ade40'\n",
    "client_secret = '3a5f1a1c83f442f991b1321a4e78edac'\n",
    "client = SpotifyAPI(client_id, client_secret)"
   ]
  },
  {
   "cell_type": "code",
   "execution_count": 398,
   "id": "74c432c4",
   "metadata": {},
   "outputs": [
    {
     "data": {
      "text/html": [
       "<img src=\"https://i.scdn.co/image/ab67616d00001e0289992f4d7d4ab94937bf9e23\"/>"
      ],
      "text/plain": [
       "<IPython.core.display.Image object>"
      ]
     },
     "metadata": {},
     "output_type": "display_data"
    },
    {
     "name": "stdout",
     "output_type": "stream",
     "text": [
      "1. Artist: Beyoncé\n",
      "Album: Lemonade\n",
      "Spotify Link: https://open.spotify.com/album/7dK54iZuOxXFarGhXwEXfF\n",
      "\n"
     ]
    },
    {
     "data": {
      "text/html": [
       "<img src=\"https://i.scdn.co/image/ab67616d00001e0277fdcfda6535601aff081b6a\"/>"
      ],
      "text/plain": [
       "<IPython.core.display.Image object>"
      ]
     },
     "metadata": {},
     "output_type": "display_data"
    },
    {
     "name": "stdout",
     "output_type": "stream",
     "text": [
      "2. Artist: Harry Styles\n",
      "Album: Fine Line\n",
      "Spotify Link: https://open.spotify.com/album/7xV2TzoaVc0ycW7fwBwAml\n",
      "\n"
     ]
    },
    {
     "data": {
      "text/html": [
       "<img src=\"https://i.scdn.co/image/ab67616d00001e0290b3a256a52b231b1e4c486b\"/>"
      ],
      "text/plain": [
       "<IPython.core.display.Image object>"
      ]
     },
     "metadata": {},
     "output_type": "display_data"
    },
    {
     "name": "stdout",
     "output_type": "stream",
     "text": [
      "3. Artist: mxmtoon\n",
      "Album: the masquerade\n",
      "Spotify Link: https://open.spotify.com/album/5mNk0mLiGcJHLGiT0mjHmX\n",
      "\n"
     ]
    },
    {
     "data": {
      "text/html": [
       "<img src=\"https://i.scdn.co/image/ab67616d00001e02aae542061ac42ee04779fb2f\"/>"
      ],
      "text/plain": [
       "<IPython.core.display.Image object>"
      ]
     },
     "metadata": {},
     "output_type": "display_data"
    },
    {
     "name": "stdout",
     "output_type": "stream",
     "text": [
      "4. Artist: Troye Sivan\n",
      "Album: Bloom\n",
      "Spotify Link: https://open.spotify.com/album/3MYJYd73u0SatCnRVvRJ3M\n",
      "\n"
     ]
    },
    {
     "data": {
      "text/html": [
       "<img src=\"https://i.scdn.co/image/ab67616d00001e0250a3147b4edd7701a876c6ce\"/>"
      ],
      "text/plain": [
       "<IPython.core.display.Image object>"
      ]
     },
     "metadata": {},
     "output_type": "display_data"
    },
    {
     "name": "stdout",
     "output_type": "stream",
     "text": [
      "5. Artist: Billie Eilish\n",
      "Album: WHEN WE ALL FALL ASLEEP, WHERE DO WE GO?\n",
      "Spotify Link: https://open.spotify.com/album/0S0KGZnfBGSIssfF54WSJh\n",
      "\n"
     ]
    },
    {
     "data": {
      "text/html": [
       "<img src=\"https://i.scdn.co/image/ab67616d00001e020ca446ea270edb01238cb969\"/>"
      ],
      "text/plain": [
       "<IPython.core.display.Image object>"
      ]
     },
     "metadata": {},
     "output_type": "display_data"
    },
    {
     "name": "stdout",
     "output_type": "stream",
     "text": [
      "6. Artist: FKA twigs\n",
      "Album: MAGDALENE\n",
      "Spotify Link: https://open.spotify.com/album/3DMR3yM5crnt1dG9lLaMTZ\n",
      "\n"
     ]
    },
    {
     "data": {
      "text/html": [
       "<img src=\"https://i.scdn.co/image/ab67616d00001e02d373d58ad02ede9bfba2dbb5\"/>"
      ],
      "text/plain": [
       "<IPython.core.display.Image object>"
      ]
     },
     "metadata": {},
     "output_type": "display_data"
    },
    {
     "name": "stdout",
     "output_type": "stream",
     "text": [
      "7. Artist: 88rising\n",
      "Album: The Weekend\n",
      "Spotify Link: https://open.spotify.com/album/6zQD9g698P2LjEtKpoBXWq\n",
      "\n"
     ]
    },
    {
     "data": {
      "text/html": [
       "<img src=\"https://i.scdn.co/image/ab67616d00001e020d1f3930676c34a23dbf5c46\"/>"
      ],
      "text/plain": [
       "<IPython.core.display.Image object>"
      ]
     },
     "metadata": {},
     "output_type": "display_data"
    },
    {
     "name": "stdout",
     "output_type": "stream",
     "text": [
      "8. Artist: Sam Smith\n",
      "Album: Love Goes\n",
      "Spotify Link: https://open.spotify.com/album/5XCBX16KNYsAe7V5hQV9mC\n",
      "\n"
     ]
    },
    {
     "data": {
      "text/html": [
       "<img src=\"https://i.scdn.co/image/ab67616d00001e02879e9318cb9f4e05ee552ac9\"/>"
      ],
      "text/plain": [
       "<IPython.core.display.Image object>"
      ]
     },
     "metadata": {},
     "output_type": "display_data"
    },
    {
     "name": "stdout",
     "output_type": "stream",
     "text": [
      "9. Artist: Lana Del Rey\n",
      "Album: Norman Fucking Rockwell!\n",
      "Spotify Link: https://open.spotify.com/album/5XpEKORZ4y6OrCZSKsi46A\n",
      "\n"
     ]
    },
    {
     "data": {
      "text/html": [
       "<img src=\"https://i.scdn.co/image/ab67616d00001e0294c6cd33b8be451c2372c6fa\"/>"
      ],
      "text/plain": [
       "<IPython.core.display.Image object>"
      ]
     },
     "metadata": {},
     "output_type": "display_data"
    },
    {
     "name": "stdout",
     "output_type": "stream",
     "text": [
      "10. Artist: Rex Orange County\n",
      "Album: Apricot Princess\n",
      "Spotify Link: https://open.spotify.com/album/2NBVxjZcbH5H1N1Ab2ExDH\n",
      "\n"
     ]
    }
   ],
   "source": [
    "# res is the json\n",
    "res = client.recommendByTrack(\"Glimpse of us\", 'when the partys over')\n"
   ]
  },
  {
   "cell_type": "code",
   "execution_count": null,
   "id": "deba79ab",
   "metadata": {},
   "outputs": [],
   "source": []
  }
 ],
 "metadata": {
  "kernelspec": {
   "display_name": "Python 3 (ipykernel)",
   "language": "python",
   "name": "python3"
  },
  "language_info": {
   "codemirror_mode": {
    "name": "ipython",
    "version": 3
   },
   "file_extension": ".py",
   "mimetype": "text/x-python",
   "name": "python",
   "nbconvert_exporter": "python",
   "pygments_lexer": "ipython3",
   "version": "3.8.3"
  }
 },
 "nbformat": 4,
 "nbformat_minor": 5
}
