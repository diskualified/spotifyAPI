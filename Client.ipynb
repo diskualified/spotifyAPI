{
 "cells": [
  {
   "cell_type": "code",
   "execution_count": 11,
   "id": "f02a9b42",
   "metadata": {},
   "outputs": [],
   "source": [
    "import requests\n",
    "import base64\n",
    "import datetime\n",
    "from urllib.parse import urlencode"
   ]
  },
  {
   "cell_type": "code",
   "execution_count": 24,
   "id": "081db190",
   "metadata": {},
   "outputs": [],
   "source": [
    "class SpotifyAPI():\n",
    "    access_token = None\n",
    "    expires = datetime.datetime.now()\n",
    "    expired = True\n",
    "    client_id = None\n",
    "    client_secret = None\n",
    "    redirect_uri = 'http://localhost:8888/notebooks/Autho.ipynb'\n",
    "    token_url = 'https://accounts.spotify.com/api/token'\n",
    "    \n",
    "    \n",
    "    def __init__(self, client_id, client_secret):\n",
    "        self.client_id = client_id\n",
    "        self.client_secret = client_secret\n",
    "    \n",
    "    def __getTokenData(self):\n",
    "        return {\n",
    "            'grant_type': 'client_credentials'\n",
    "        }\n",
    "    def __getTokenHeaders(self):\n",
    "        client_creds = f\"{self.client_id}:{self. client_secret}\"\n",
    "        client_creds_b64 = base64.b64encode(client_creds.encode())\n",
    "        return {\n",
    "            'authorization': f\"Basic {client_creds_b64.decode()}\" # <base64 encoded client_id:client_secret>\n",
    "        }\n",
    "    \n",
    "    def performAuth(self):\n",
    "        r = requests.post(self.token_url, data=self.getTokenData(), headers = self.getTokenHeaders())\n",
    "        if r.status_code not in range(200, 299):\n",
    "            return False\n",
    "        response = r.json()\n",
    "        now = datetime.datetime.now()\n",
    "        self.access_token = response['access_token']\n",
    "        expires_in = response['expires_in']\n",
    "        self.expires = now + datetime.timedelta(seconds=expires_in)\n",
    "        self.expired = expires < now\n",
    "        return True\n",
    "        "
   ]
  }
 ],
 "metadata": {
  "kernelspec": {
   "display_name": "Python 3 (ipykernel)",
   "language": "python",
   "name": "python3"
  },
  "language_info": {
   "codemirror_mode": {
    "name": "ipython",
    "version": 3
   },
   "file_extension": ".py",
   "mimetype": "text/x-python",
   "name": "python",
   "nbconvert_exporter": "python",
   "pygments_lexer": "ipython3",
   "version": "3.8.3"
  }
 },
 "nbformat": 4,
 "nbformat_minor": 5
}
