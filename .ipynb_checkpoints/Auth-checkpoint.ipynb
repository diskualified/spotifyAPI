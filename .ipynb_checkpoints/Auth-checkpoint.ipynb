{
 "cells": [
  {
   "cell_type": "code",
   "execution_count": 1,
   "id": "ab7695b7",
   "metadata": {},
   "outputs": [],
   "source": [
    "import requests\n",
    "import base64\n",
    "import datetime\n",
    "from urllib.parse import urlencode"
   ]
  },
  {
   "cell_type": "code",
   "execution_count": 2,
   "id": "ac0849d7",
   "metadata": {},
   "outputs": [],
   "source": [
    "client_id = '4e75cab0012d409da502214e828ade40'\n",
    "client_secret = '3a5f1a1c83f442f991b1321a4e78edac'\n",
    "redirect_uri = 'http://localhost:8888/notebooks/Autho.ipynb'"
   ]
  },
  {
   "cell_type": "code",
   "execution_count": 30,
   "id": "59aa33ff",
   "metadata": {},
   "outputs": [],
   "source": [
    "# client credentials auth\n",
    "token_url = 'https://accounts.spotify.com/api/token'\n",
    "token_data = {'grant_type': 'client_credentials'}\n",
    "\n",
    "# Used to get Basic authorization in token_headers\n",
    "client_creds = f\"{client_id}:{client_secret}\"\n",
    "client_creds_b64 = base64.b64encode(client_creds.encode())\n",
    "\n",
    "token_headers = {\n",
    "    'Content-Type': 'application/x-www-form-urlencoded',\n",
    "    'authorization': f\"Basic {client_creds_b64.decode()}\" # <base64 encoded client_id:client_secret>\n",
    "}\n",
    "\n",
    "r = requests.post(token_url, data=token_data, headers = token_headers)\n",
    "response = r.json()\n",
    "access_token = response['access_token']"
   ]
  },
  {
   "cell_type": "code",
   "execution_count": null,
   "id": "a824d906",
   "metadata": {},
   "outputs": [],
   "source": []
  },
  {
   "cell_type": "code",
   "execution_count": 10,
   "id": "7148fe4e",
   "metadata": {},
   "outputs": [],
   "source": [
    "import spotipy\n",
    "from spotipy.oauth2 import SpotifyOAuth\n",
    "\n",
    "scope = \"user-library-read\"\n",
    "\n",
    "sp = spotipy.Spotify(auth_manager=SpotifyOAuth(client_id, client_secret, redirect_uri, scope=scope))"
   ]
  },
  {
   "cell_type": "code",
   "execution_count": 34,
   "id": "5da51044",
   "metadata": {},
   "outputs": [],
   "source": [
    "# First step: user authorization to get code\n",
    "auth_url = 'https://accounts.spotify.com/authorize'\n",
    "data = {\n",
    "    'client_id': client_id,\n",
    "    'response_type': 'code',\n",
    "    'redirect_uri': 'http://localhost:8888/notebooks/Autho.ipynb',\n",
    "    'show_dialogue': True,\n",
    "    'scope': 'user-top-read'\n",
    "    }\n",
    "data = urlencode(data)\n",
    "\n",
    "auth_code = requests.get(f\"{auth_url}?{data}\")"
   ]
  },
  {
   "cell_type": "code",
   "execution_count": 33,
   "id": "efbdc0de",
   "metadata": {},
   "outputs": [
    {
     "name": "stdout",
     "output_type": "stream",
     "text": [
      "<Response [200]>\n"
     ]
    }
   ],
   "source": [
    "print(auth_code)"
   ]
  },
  {
   "cell_type": "code",
   "execution_count": 11,
   "id": "e8225c47",
   "metadata": {},
   "outputs": [
    {
     "ename": "NameError",
     "evalue": "name 'auth_code' is not defined",
     "output_type": "error",
     "traceback": [
      "\u001b[0;31m---------------------------------------------------------------------------\u001b[0m",
      "\u001b[0;31mNameError\u001b[0m                                 Traceback (most recent call last)",
      "\u001b[0;32m/var/folders/t4/lk2kxbwx0_g12y7jd1zsjtdc0000gn/T/ipykernel_13396/1783692809.py\u001b[0m in \u001b[0;36m<module>\u001b[0;34m\u001b[0m\n\u001b[1;32m      2\u001b[0m auth_data = {\n\u001b[1;32m      3\u001b[0m     \u001b[0;34m'grant_type'\u001b[0m\u001b[0;34m:\u001b[0m \u001b[0;34m'authorization_code'\u001b[0m\u001b[0;34m,\u001b[0m\u001b[0;34m\u001b[0m\u001b[0;34m\u001b[0m\u001b[0m\n\u001b[0;32m----> 4\u001b[0;31m     \u001b[0;34m'code'\u001b[0m\u001b[0;34m:\u001b[0m \u001b[0mauth_code\u001b[0m\u001b[0;34m,\u001b[0m\u001b[0;34m\u001b[0m\u001b[0;34m\u001b[0m\u001b[0m\n\u001b[0m\u001b[1;32m      5\u001b[0m     \u001b[0;34m'redirect_uri'\u001b[0m\u001b[0;34m:\u001b[0m \u001b[0;34m'http://localhost:8888/notebooks/Autho.ipynb'\u001b[0m\u001b[0;34m,\u001b[0m\u001b[0;34m\u001b[0m\u001b[0;34m\u001b[0m\u001b[0m\n\u001b[1;32m      6\u001b[0m     \u001b[0;34m'client_id'\u001b[0m\u001b[0;34m:\u001b[0m \u001b[0mclient_id\u001b[0m\u001b[0;34m,\u001b[0m\u001b[0;34m\u001b[0m\u001b[0;34m\u001b[0m\u001b[0m\n",
      "\u001b[0;31mNameError\u001b[0m: name 'auth_code' is not defined"
     ]
    }
   ],
   "source": [
    "# get access_token with code \n",
    "auth_data = {\n",
    "    'grant_type': 'authorization_code',\n",
    "    'code': auth_code,\n",
    "    'redirect_uri': 'http://localhost:8888/notebooks/Autho.ipynb',\n",
    "    'client_id': client_id,\n",
    "    'client_secret': client_secret,\n",
    "}\n",
    "\n",
    "# Same code as above\n",
    "token_url = 'https://accounts.spotify.com/api/token'\n",
    "client_creds = f\"{client_id}:{client_secret}\"\n",
    "client_creds_b64 = base64.b64encode(client_creds.encode())\n",
    "token_headers = {\n",
    "    'Content-Type': 'application/x-www-form-urlencoded',\n",
    "    'authorization': f\"Basic {client_creds_b64.decode()}\" # <base64 encoded client_id:client_secret>\n",
    "}\n",
    "\n",
    "auth_r = requests.post(token_url, data = auth_data, headers = token_headers)"
   ]
  },
  {
   "cell_type": "code",
   "execution_count": 18,
   "id": "59d7ba35",
   "metadata": {},
   "outputs": [
    {
     "data": {
      "text/plain": [
       "{'error': 'invalid_grant', 'error_description': 'Invalid authorization code'}"
      ]
     },
     "execution_count": 18,
     "metadata": {},
     "output_type": "execute_result"
    }
   ],
   "source": [
    "response2 = auth_r.json()\n",
    "access_token = response2['access_token']"
   ]
  },
  {
   "cell_type": "code",
   "execution_count": null,
   "id": "43b7ff1e",
   "metadata": {},
   "outputs": [],
   "source": []
  }
 ],
 "metadata": {
  "kernelspec": {
   "display_name": "Python 3 (ipykernel)",
   "language": "python",
   "name": "python3"
  },
  "language_info": {
   "codemirror_mode": {
    "name": "ipython",
    "version": 3
   },
   "file_extension": ".py",
   "mimetype": "text/x-python",
   "name": "python",
   "nbconvert_exporter": "python",
   "pygments_lexer": "ipython3",
   "version": "3.8.3"
  }
 },
 "nbformat": 4,
 "nbformat_minor": 5
}
